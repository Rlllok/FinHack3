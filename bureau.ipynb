{
 "metadata": {
  "language_info": {
   "codemirror_mode": {
    "name": "ipython",
    "version": 3
   },
   "file_extension": ".py",
   "mimetype": "text/x-python",
   "name": "python",
   "nbconvert_exporter": "python",
   "pygments_lexer": "ipython3",
   "version": "3.8.5-final"
  },
  "orig_nbformat": 2,
  "kernelspec": {
   "name": "python3",
   "display_name": "Python 3",
   "language": "python"
  }
 },
 "nbformat": 4,
 "nbformat_minor": 2,
 "cells": [
  {
   "cell_type": "code",
   "execution_count": 1,
   "metadata": {},
   "outputs": [],
   "source": [
    "import os\n",
    "import pandas as pd"
   ]
  },
  {
   "cell_type": "code",
   "execution_count": 2,
   "metadata": {},
   "outputs": [],
   "source": [
    "TEST_DIR = 'Test'\n",
    "TRAIN_DIR = 'Train'"
   ]
  },
  {
   "cell_type": "code",
   "execution_count": 3,
   "metadata": {},
   "outputs": [],
   "source": [
    "train_bureau_pd = pd.read_excel(os.path.join(TRAIN_DIR, 'train_bureau.xlsx'))\n",
    "test_bureau_pd = pd.read_excel(os.path.join(TEST_DIR, 'test_bureau.xlsx'))"
   ]
  },
  {
   "cell_type": "code",
   "execution_count": 11,
   "metadata": {},
   "outputs": [
    {
     "output_type": "execute_result",
     "data": {
      "text/plain": [
       "   SELF-INDICATOR DATE-REPORTED\n",
       "0           False    2018-04-30\n",
       "1           False    2019-12-31\n",
       "2            True    2020-01-31\n",
       "3            True    2017-09-30\n",
       "4            True    2016-02-29\n",
       "5           False    2018-04-30\n",
       "6           False    2019-12-31\n",
       "7            True    2017-09-30\n",
       "8            True    2017-07-31"
      ],
      "text/html": "<div>\n<style scoped>\n    .dataframe tbody tr th:only-of-type {\n        vertical-align: middle;\n    }\n\n    .dataframe tbody tr th {\n        vertical-align: top;\n    }\n\n    .dataframe thead th {\n        text-align: right;\n    }\n</style>\n<table border=\"1\" class=\"dataframe\">\n  <thead>\n    <tr style=\"text-align: right;\">\n      <th></th>\n      <th>SELF-INDICATOR</th>\n      <th>DATE-REPORTED</th>\n    </tr>\n  </thead>\n  <tbody>\n    <tr>\n      <th>0</th>\n      <td>False</td>\n      <td>2018-04-30</td>\n    </tr>\n    <tr>\n      <th>1</th>\n      <td>False</td>\n      <td>2019-12-31</td>\n    </tr>\n    <tr>\n      <th>2</th>\n      <td>True</td>\n      <td>2020-01-31</td>\n    </tr>\n    <tr>\n      <th>3</th>\n      <td>True</td>\n      <td>2017-09-30</td>\n    </tr>\n    <tr>\n      <th>4</th>\n      <td>True</td>\n      <td>2016-02-29</td>\n    </tr>\n    <tr>\n      <th>5</th>\n      <td>False</td>\n      <td>2018-04-30</td>\n    </tr>\n    <tr>\n      <th>6</th>\n      <td>False</td>\n      <td>2019-12-31</td>\n    </tr>\n    <tr>\n      <th>7</th>\n      <td>True</td>\n      <td>2017-09-30</td>\n    </tr>\n    <tr>\n      <th>8</th>\n      <td>True</td>\n      <td>2017-07-31</td>\n    </tr>\n  </tbody>\n</table>\n</div>"
     },
     "metadata": {},
     "execution_count": 11
    }
   ],
   "source": [
    "train_bureau_pd[train_bureau_pd['ID'] == 1][['SELF-INDICATOR', 'DATE-REPORTED']]"
   ]
  },
  {
   "cell_type": "code",
   "execution_count": 85,
   "metadata": {},
   "outputs": [
    {
     "output_type": "execute_result",
     "data": {
      "text/plain": [
       "ID                                0\n",
       "SELF-INDICATOR                    0\n",
       "MATCH-TYPE                        0\n",
       "ACCT-TYPE                         0\n",
       "CONTRIBUTOR-TYPE                  0\n",
       "DATE-REPORTED                  3683\n",
       "OWNERSHIP-IND                     0\n",
       "ACCOUNT-STATUS                    0\n",
       "DISBURSED-DT                  32150\n",
       "CLOSE-DT                     251758\n",
       "LAST-PAYMENT-DATE            319283\n",
       "CREDIT-LIMIT/SANC AMT        545685\n",
       "DISBURSED-AMT/HIGH CREDIT         0\n",
       "INSTALLMENT-AMT              420509\n",
       "CURRENT-BAL                     233\n",
       "INSTALLMENT-FREQUENCY        425135\n",
       "OVERDUE-AMT                  118891\n",
       "WRITE-OFF-AMT                 19123\n",
       "ASSET_CLASS                  300376\n",
       "REPORTED DATE - HIST          19123\n",
       "DPD - HIST                    19647\n",
       "CUR BAL - HIST                19123\n",
       "AMT OVERDUE - HIST            19123\n",
       "AMT PAID - HIST               20294\n",
       "TENURE                       368107\n",
       "dtype: int64"
      ]
     },
     "metadata": {},
     "execution_count": 85
    }
   ],
   "source": [
    "train_bureau_pd.isnull().sum()"
   ]
  },
  {
   "cell_type": "code",
   "execution_count": 99,
   "metadata": {},
   "outputs": [
    {
     "output_type": "execute_result",
     "data": {
      "text/plain": [
       "'20797,21988,23174,24341,25504,26648,27780,28910,30020,31128,32267,33427,34547,35655,36764,37850,38939,40004,41059,42118,44601,44181,'"
      ]
     },
     "metadata": {},
     "execution_count": 99
    }
   ],
   "source": [
    "train_bureau_pd[train_bureau_pd['ID'] == 1]['CUR BAL - HIST'].loc[1]"
   ]
  },
  {
   "cell_type": "code",
   "execution_count": 97,
   "metadata": {},
   "outputs": [
    {
     "output_type": "execute_result",
     "data": {
      "text/plain": [
       "ID\n",
       "1          9\n",
       "2         13\n",
       "3         31\n",
       "7          4\n",
       "8          7\n",
       "          ..\n",
       "143390     2\n",
       "143391     1\n",
       "143393     4\n",
       "143394     1\n",
       "143395     1\n",
       "Length: 128655, dtype: int64"
      ]
     },
     "metadata": {},
     "execution_count": 97
    }
   ],
   "source": [
    "train_bureau_pd.groupby(['ID']).size()"
   ]
  },
  {
   "cell_type": "code",
   "execution_count": 51,
   "metadata": {},
   "outputs": [],
   "source": [
    "def create_data(data):\n",
    "    new_data = []\n",
    "    for ID in data['ID'].unique():\n",
    "        [ID,\n",
    "         \n",
    "        ]\n",
    "    return new_data"
   ]
  },
  {
   "cell_type": "code",
   "execution_count": 52,
   "metadata": {},
   "outputs": [],
   "source": [
    "a = create_data_table(train_bureau_pd)"
   ]
  },
  {
   "cell_type": "code",
   "execution_count": 53,
   "metadata": {},
   "outputs": [
    {
     "output_type": "execute_result",
     "data": {
      "text/plain": [
       "Empty DataFrame\n",
       "Columns: [ID]\n",
       "Index: []"
      ],
      "text/html": "<div>\n<style scoped>\n    .dataframe tbody tr th:only-of-type {\n        vertical-align: middle;\n    }\n\n    .dataframe tbody tr th {\n        vertical-align: top;\n    }\n\n    .dataframe thead th {\n        text-align: right;\n    }\n</style>\n<table border=\"1\" class=\"dataframe\">\n  <thead>\n    <tr style=\"text-align: right;\">\n      <th></th>\n      <th>ID</th>\n    </tr>\n  </thead>\n  <tbody>\n  </tbody>\n</table>\n</div>"
     },
     "metadata": {},
     "execution_count": 53
    }
   ],
   "source": [
    "a"
   ]
  },
  {
   "cell_type": "code",
   "execution_count": null,
   "metadata": {},
   "outputs": [],
   "source": []
  }
 ]
}