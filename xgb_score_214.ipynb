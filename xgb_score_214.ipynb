{
 "metadata": {
  "language_info": {
   "codemirror_mode": {
    "name": "ipython",
    "version": 3
   },
   "file_extension": ".py",
   "mimetype": "text/x-python",
   "name": "python",
   "nbconvert_exporter": "python",
   "pygments_lexer": "ipython3",
   "version": "3.8.5-final"
  },
  "orig_nbformat": 2,
  "kernelspec": {
   "name": "python3",
   "display_name": "Python 3",
   "language": "python"
  }
 },
 "nbformat": 4,
 "nbformat_minor": 2,
 "cells": [
  {
   "cell_type": "code",
   "execution_count": 1,
   "metadata": {},
   "outputs": [],
   "source": [
    "import pandas as pd\n",
    "import numpy as np\n",
    "from xgboost import XGBClassifier\n",
    "from sklearn.compose import make_column_transformer\n",
    "from sklearn.preprocessing import LabelEncoder, OrdinalEncoder\n",
    "from sklearn.linear_model import LogisticRegression\n",
    "from sklearn.pipeline import make_pipeline\n",
    "from sklearn.metrics import f1_score\n",
    "from category_encoders import HashingEncoder"
   ]
  },
  {
   "cell_type": "code",
   "execution_count": 2,
   "metadata": {},
   "outputs": [],
   "source": [
    "train_pd = pd.read_csv('train_data.csv')\n",
    "test_pd = pd.read_csv('test_data.csv')"
   ]
  },
  {
   "cell_type": "code",
   "execution_count": 3,
   "metadata": {},
   "outputs": [
    {
     "output_type": "execute_result",
     "data": {
      "text/plain": [
       "ID                 0\n",
       "Frequency          0\n",
       "InstlmentMode      0\n",
       "LoanStatus         0\n",
       "PaymentMode        0\n",
       "BranchID           0\n",
       "Area               0\n",
       "Tenure             0\n",
       "AssetCost          0\n",
       "AmountFinance      0\n",
       "DisbursalAmount    0\n",
       "EMI                0\n",
       "AssetID            0\n",
       "SupplierID         0\n",
       "LTV                0\n",
       "MonthlyIncome      0\n",
       "City               0\n",
       "State              0\n",
       "Top-up Month       0\n",
       "DisbursalYear      0\n",
       "MaturityYear       0\n",
       "AuthYear           0\n",
       "Report-Counts      0\n",
       "dtype: int64"
      ]
     },
     "metadata": {},
     "execution_count": 3
    }
   ],
   "source": [
    "train_pd.isnull().sum()"
   ]
  },
  {
   "cell_type": "code",
   "execution_count": 4,
   "metadata": {},
   "outputs": [],
   "source": [
    "X_train = train_pd.drop(['ID', 'Top-up Month', 'BranchID', 'SupplierID', 'AssetID'], axis=1)\n",
    "y_train = train_pd['Top-up Month']\n",
    "X_test = test_pd.drop(['ID', 'BranchID', 'SupplierID', 'AssetID'], axis=1)"
   ]
  },
  {
   "cell_type": "code",
   "execution_count": 5,
   "metadata": {},
   "outputs": [],
   "source": [
    "cat_features = list(X_test.dtypes[X_test.dtypes == 'object'].index)"
   ]
  },
  {
   "cell_type": "code",
   "execution_count": 6,
   "metadata": {},
   "outputs": [],
   "source": [
    "column_trans = make_column_transformer(\n",
    "    (OrdinalEncoder(), ['Frequency']),\n",
    "    (HashingEncoder(), cat_features),\n",
    "    remainder='passthrough'\n",
    ")\n",
    "logreg = LogisticRegression(solver='lbfgs')\n",
    "xgb_cls = XGBClassifier() "
   ]
  },
  {
   "cell_type": "code",
   "execution_count": 7,
   "metadata": {},
   "outputs": [],
   "source": [
    "pipe = make_pipeline(column_trans, xgb_cls)"
   ]
  },
  {
   "cell_type": "code",
   "execution_count": 8,
   "metadata": {},
   "outputs": [
    {
     "output_type": "stream",
     "name": "stdout",
     "text": [
      "[16:04:16] WARNING: ../src/learner.cc:1061: Starting in XGBoost 1.3.0, the default evaluation metric used with the objective 'multi:softprob' was changed from 'merror' to 'mlogloss'. Explicitly set eval_metric if you'd like to restore the old behavior.\n"
     ]
    },
    {
     "output_type": "execute_result",
     "data": {
      "text/plain": [
       "Pipeline(steps=[('columntransformer',\n",
       "                 ColumnTransformer(remainder='passthrough',\n",
       "                                   transformers=[('ordinalencoder',\n",
       "                                                  OrdinalEncoder(),\n",
       "                                                  ['Frequency']),\n",
       "                                                 ('hashingencoder',\n",
       "                                                  HashingEncoder(max_process=4),\n",
       "                                                  ['Frequency', 'InstlmentMode',\n",
       "                                                   'LoanStatus', 'PaymentMode',\n",
       "                                                   'Area', 'City',\n",
       "                                                   'State'])])),\n",
       "                ('xgbclassifier',\n",
       "                 XGBClassifier(base_score=0.5, booster='gbtree',\n",
       "                               colsample_byl...\n",
       "                               importance_type='gain',\n",
       "                               interaction_constraints='',\n",
       "                               learning_rate=0.300000012, max_delta_step=0,\n",
       "                               max_depth=6, min_child_weight=1, missing=nan,\n",
       "                               monotone_constraints='()', n_estimators=100,\n",
       "                               n_jobs=8, num_parallel_tree=1,\n",
       "                               objective='multi:softprob', random_state=0,\n",
       "                               reg_alpha=0, reg_lambda=1, scale_pos_weight=None,\n",
       "                               subsample=1, tree_method='exact',\n",
       "                               validate_parameters=1, verbosity=None))])"
      ]
     },
     "metadata": {},
     "execution_count": 8
    }
   ],
   "source": [
    "pipe.fit(X_train, y_train)"
   ]
  },
  {
   "cell_type": "code",
   "execution_count": 9,
   "metadata": {},
   "outputs": [],
   "source": [
    "y_pred = pipe.predict(X_train)"
   ]
  },
  {
   "cell_type": "code",
   "execution_count": 10,
   "metadata": {},
   "outputs": [
    {
     "output_type": "stream",
     "name": "stdout",
     "text": [
      "Macro F1: 0.32160461239598803\n"
     ]
    }
   ],
   "source": [
    "print('Macro F1:', f1_score(y_train, y_pred, average='macro'))"
   ]
  },
  {
   "cell_type": "code",
   "execution_count": 22,
   "metadata": {},
   "outputs": [],
   "source": [
    "submission = pd.read_csv('submission.csv')\n",
    "submission['Top-up Month'] = pipe.predict(X_test)\n",
    "submission.to_csv('submission.csv', index=False)"
   ]
  },
  {
   "cell_type": "code",
   "execution_count": 23,
   "metadata": {},
   "outputs": [
    {
     "output_type": "execute_result",
     "data": {
      "text/plain": [
       "           ID       Top-up Month\n",
       "0           4  No Top-up Service\n",
       "1           5  No Top-up Service\n",
       "2           6  No Top-up Service\n",
       "3          25  No Top-up Service\n",
       "4         119  No Top-up Service\n",
       "...       ...                ...\n",
       "14740  143396        > 48 Months\n",
       "14741  143397  No Top-up Service\n",
       "14742  143398  No Top-up Service\n",
       "14743  143399  No Top-up Service\n",
       "14744  143400  No Top-up Service\n",
       "\n",
       "[14745 rows x 2 columns]"
      ],
      "text/html": "<div>\n<style scoped>\n    .dataframe tbody tr th:only-of-type {\n        vertical-align: middle;\n    }\n\n    .dataframe tbody tr th {\n        vertical-align: top;\n    }\n\n    .dataframe thead th {\n        text-align: right;\n    }\n</style>\n<table border=\"1\" class=\"dataframe\">\n  <thead>\n    <tr style=\"text-align: right;\">\n      <th></th>\n      <th>ID</th>\n      <th>Top-up Month</th>\n    </tr>\n  </thead>\n  <tbody>\n    <tr>\n      <th>0</th>\n      <td>4</td>\n      <td>No Top-up Service</td>\n    </tr>\n    <tr>\n      <th>1</th>\n      <td>5</td>\n      <td>No Top-up Service</td>\n    </tr>\n    <tr>\n      <th>2</th>\n      <td>6</td>\n      <td>No Top-up Service</td>\n    </tr>\n    <tr>\n      <th>3</th>\n      <td>25</td>\n      <td>No Top-up Service</td>\n    </tr>\n    <tr>\n      <th>4</th>\n      <td>119</td>\n      <td>No Top-up Service</td>\n    </tr>\n    <tr>\n      <th>...</th>\n      <td>...</td>\n      <td>...</td>\n    </tr>\n    <tr>\n      <th>14740</th>\n      <td>143396</td>\n      <td>&gt; 48 Months</td>\n    </tr>\n    <tr>\n      <th>14741</th>\n      <td>143397</td>\n      <td>No Top-up Service</td>\n    </tr>\n    <tr>\n      <th>14742</th>\n      <td>143398</td>\n      <td>No Top-up Service</td>\n    </tr>\n    <tr>\n      <th>14743</th>\n      <td>143399</td>\n      <td>No Top-up Service</td>\n    </tr>\n    <tr>\n      <th>14744</th>\n      <td>143400</td>\n      <td>No Top-up Service</td>\n    </tr>\n  </tbody>\n</table>\n<p>14745 rows × 2 columns</p>\n</div>"
     },
     "metadata": {},
     "execution_count": 23
    }
   ],
   "source": [
    "submission"
   ]
  },
  {
   "cell_type": "code",
   "execution_count": null,
   "metadata": {},
   "outputs": [],
   "source": []
  }
 ]
}