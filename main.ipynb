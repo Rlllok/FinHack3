{
 "metadata": {
  "language_info": {
   "codemirror_mode": {
    "name": "ipython",
    "version": 3
   },
   "file_extension": ".py",
   "mimetype": "text/x-python",
   "name": "python",
   "nbconvert_exporter": "python",
   "pygments_lexer": "ipython3",
   "version": "3.8.5-final"
  },
  "orig_nbformat": 2,
  "kernelspec": {
   "name": "python3",
   "display_name": "Python 3",
   "language": "python"
  }
 },
 "nbformat": 4,
 "nbformat_minor": 2,
 "cells": [
  {
   "cell_type": "code",
   "execution_count": 1,
   "metadata": {},
   "outputs": [],
   "source": [
    "import os\n",
    "import pandas as pd\n",
    "import matplotlib.pyplot as plt\n",
    "import seaborn as sns"
   ]
  },
  {
   "cell_type": "code",
   "execution_count": 2,
   "metadata": {},
   "outputs": [],
   "source": [
    "TEST_DIR = 'Test'\n",
    "TRAIN_DIR = 'Train'"
   ]
  },
  {
   "source": [
    "train_bureau_path = os.path.join(TRAIN_DIR, 'train_bureau.xlsx')\n",
    "train_bureau_pd = pd.read_excel(train_bureau_path)\n",
    "train_bureau_pd.info()"
   ],
   "cell_type": "code",
   "metadata": {},
   "execution_count": 3,
   "outputs": [
    {
     "output_type": "stream",
     "name": "stdout",
     "text": [
      "<class 'pandas.core.frame.DataFrame'>\nRangeIndex: 560844 entries, 0 to 560843\nData columns (total 25 columns):\n #   Column                     Non-Null Count   Dtype         \n---  ------                     --------------   -----         \n 0   ID                         560844 non-null  int64         \n 1   SELF-INDICATOR             560844 non-null  bool          \n 2   MATCH-TYPE                 560844 non-null  object        \n 3   ACCT-TYPE                  560844 non-null  object        \n 4   CONTRIBUTOR-TYPE           560844 non-null  object        \n 5   DATE-REPORTED              557161 non-null  datetime64[ns]\n 6   OWNERSHIP-IND              560844 non-null  object        \n 7   ACCOUNT-STATUS             560844 non-null  object        \n 8   DISBURSED-DT               528694 non-null  datetime64[ns]\n 9   CLOSE-DT                   309086 non-null  object        \n 10  LAST-PAYMENT-DATE          241561 non-null  datetime64[ns]\n 11  CREDIT-LIMIT/SANC AMT      15159 non-null   object        \n 12  DISBURSED-AMT/HIGH CREDIT  560844 non-null  object        \n 13  INSTALLMENT-AMT            140335 non-null  object        \n 14  CURRENT-BAL                560611 non-null  object        \n 15  INSTALLMENT-FREQUENCY      135709 non-null  object        \n 16  OVERDUE-AMT                441953 non-null  object        \n 17  WRITE-OFF-AMT              541721 non-null  float64       \n 18  ASSET_CLASS                260468 non-null  object        \n 19  REPORTED DATE - HIST       541721 non-null  object        \n 20  DPD - HIST                 541197 non-null  object        \n 21  CUR BAL - HIST             541721 non-null  object        \n 22  AMT OVERDUE - HIST         541721 non-null  object        \n 23  AMT PAID - HIST            540550 non-null  object        \n 24  TENURE                     192737 non-null  float64       \ndtypes: bool(1), datetime64[ns](3), float64(2), int64(1), object(18)\nmemory usage: 103.2+ MB\n"
     ]
    }
   ]
  },
  {
   "cell_type": "code",
   "execution_count": 4,
   "metadata": {},
   "outputs": [],
   "source": [
    "train_data_path = os.path.join(TRAIN_DIR, 'train_Data.xlsx')\n",
    "train_data_pd = pd.read_excel(train_data_path)"
   ]
  },
  {
   "cell_type": "code",
   "execution_count": 5,
   "metadata": {},
   "outputs": [],
   "source": [
    "test_bureau_path = os.path.join(TEST_DIR, 'test_bureau.xlsx')\n",
    "test_bureau_pd = pd.read_excel(test_bureau_path)"
   ]
  },
  {
   "cell_type": "code",
   "execution_count": 6,
   "metadata": {},
   "outputs": [],
   "source": [
    "test_data_path = os.path.join(TEST_DIR, 'test_Data.xlsx')\n",
    "test_data_pd = pd.read_excel(test_data_path)"
   ]
  },
  {
   "cell_type": "code",
   "execution_count": 7,
   "metadata": {},
   "outputs": [],
   "source": [
    "# corrmat = train_data_pd.corr()\n",
    "# fix, ax = plt.subplots(figsize=(12,9))\n",
    "# sns.heatmap(corrmat, square=True, annot=True, linewidths=0.5, cmap='Blues')"
   ]
  },
  {
   "cell_type": "code",
   "execution_count": 8,
   "metadata": {},
   "outputs": [
    {
     "output_type": "execute_result",
     "data": {
      "text/plain": [
       "Frequency        object\n",
       "InstlmentMode    object\n",
       "LoanStatus       object\n",
       "PaymentMode      object\n",
       "Area             object\n",
       "SEX              object\n",
       "City             object\n",
       "State            object\n",
       "Top-up Month     object\n",
       "dtype: object"
      ]
     },
     "metadata": {},
     "execution_count": 8
    }
   ],
   "source": [
    "train_data_pd.dtypes[train_data_pd.dtypes == 'object']"
   ]
  },
  {
   "cell_type": "code",
   "execution_count": 9,
   "metadata": {},
   "outputs": [
    {
     "output_type": "execute_result",
     "data": {
      "text/plain": [
       "ID                     0\n",
       "Frequency              0\n",
       "InstlmentMode          0\n",
       "LoanStatus             0\n",
       "PaymentMode            0\n",
       "BranchID               0\n",
       "Area               11653\n",
       "Tenure                 0\n",
       "AssetCost              0\n",
       "AmountFinance          0\n",
       "DisbursalAmount        0\n",
       "EMI                    0\n",
       "DisbursalDate          0\n",
       "MaturityDAte           1\n",
       "AuthDate               0\n",
       "AssetID                0\n",
       "ManufacturerID         0\n",
       "SupplierID             0\n",
       "LTV                    0\n",
       "SEX                   59\n",
       "AGE                   59\n",
       "MonthlyIncome        234\n",
       "City               11256\n",
       "State                  0\n",
       "ZiPCODE              372\n",
       "Top-up Month           0\n",
       "dtype: int64"
      ]
     },
     "metadata": {},
     "execution_count": 9
    }
   ],
   "source": [
    "train_data_pd.isnull().sum()"
   ]
  },
  {
   "cell_type": "code",
   "execution_count": 10,
   "metadata": {},
   "outputs": [
    {
     "output_type": "stream",
     "name": "stdout",
     "text": [
      "Id = 1: Series([], dtype: object)\n",
      "Id = 333: 0    BHOPAL\n",
      "dtype: object\n",
      "Id = 125: 0    GUNA\n",
      "dtype: object\n",
      "Id = 152: 0    BILASPUR\n",
      "dtype: object\n",
      "Id = 5: 0    RAIPUR\n",
      "dtype: object\n",
      "Id = 154: Series([], dtype: object)\n",
      "Id = 79: Series([], dtype: object)\n",
      "Id = 8: 0    BHUBANESHWAR\n",
      "dtype: object\n",
      "Id = 194: 0    CUTTACK\n",
      "dtype: object\n",
      "Id = 316: 0    BHUBANESHWAR\n",
      "dtype: object\n",
      "Id = 9: 0    BURDWAN\n",
      "dtype: object\n",
      "Id = 10: Series([], dtype: object)\n",
      "Id = 231: Series([], dtype: object)\n",
      "Id = 289: 0    DURGAPUR\n",
      "dtype: object\n",
      "Id = 149: 0    SILIGURI\n",
      "dtype: object\n",
      "Id = 229: 0    BURDWAN\n",
      "dtype: object\n",
      "Id = 16: 0    BHUBANESHWAR\n",
      "dtype: object\n",
      "Id = 17: Series([], dtype: object)\n",
      "Id = 19: 0    UDAIPUR\n",
      "dtype: object\n",
      "Id = 20: 0    CHANDIGARH\n",
      "dtype: object\n",
      "Id = 200: 0    LUDHIANA   RANI JHANSI ROAD\n",
      "dtype: object\n",
      "Id = 21: 0    JAIPUR\n",
      "dtype: object\n",
      "Id = 281: 0    JAIPUR\n",
      "dtype: object\n",
      "Id = 110: 0    JAIPUR\n",
      "dtype: object\n",
      "Id = 205: 0    JAIPUR\n",
      "dtype: object\n",
      "Id = 341: 0    JAIPUR\n",
      "dtype: object\n",
      "Id = 22: 0    JALANDHAR\n",
      "dtype: object\n",
      "Id = 311: 0    JALANDHAR\n",
      "dtype: object\n",
      "Id = 29: 0    JALANDHAR\n",
      "dtype: object\n",
      "Id = 24: 0    KANPUR\n",
      "dtype: object\n",
      "Id = 26: 0    LUCKNOW\n",
      "dtype: object\n",
      "Id = 202: 0    LUCKNOW\n",
      "dtype: object\n",
      "Id = 25: 0    KARNAL\n",
      "dtype: object\n",
      "Id = 243: 0    LUCKNOW\n",
      "dtype: object\n",
      "Id = 272: 0    LUCKNOW\n",
      "dtype: object\n",
      "Id = 32: 0    BANGALORE LALBAGH\n",
      "dtype: object\n",
      "Id = 38: 0    NELLORE\n",
      "dtype: object\n",
      "Id = 309: 0    HUBLI\n",
      "dtype: object\n",
      "Id = 39: 0    HUBLI\n",
      "dtype: object\n",
      "Id = 40: 0    HYDERABAD BEGUMPET\n",
      "dtype: object\n",
      "Id = 41: 0    KARIMNAGAR\n",
      "dtype: object\n",
      "Id = 334: 0    MANGALORE\n",
      "dtype: object\n",
      "Id = 45: 0    MYSORE\n",
      "dtype: object\n",
      "Id = 46: 0    MIRYALGUDA\n",
      "dtype: object\n",
      "Id = 47: 0    NELLORE\n",
      "dtype: object\n",
      "Id = 340: 0    NELLORE\n",
      "dtype: object\n",
      "Id = 48: 0    NIZAMABAD\n",
      "dtype: object\n",
      "Id = 50: 0    SINDHANUR\n",
      "dtype: object\n",
      "Id = 305: 0    SINDHANUR\n",
      "dtype: object\n",
      "Id = 53: 0    VIJAYAWADA\n",
      "dtype: object\n",
      "Id = 54: 0    VISHAKHAPATNAM\n",
      "dtype: object\n",
      "Id = 55: 0    AHMEDABAD AMBAVADI\n",
      "dtype: object\n",
      "Id = 304: 0    AHMEDABAD AMBAVADI\n",
      "dtype: object\n",
      "Id = 196: 0    AHMEDABAD AMBAVADI\n",
      "dtype: object\n",
      "Id = 292: 0    BARODA\n",
      "dtype: object\n",
      "Id = 310: 0    AHMEDABAD AMBAVADI\n",
      "dtype: object\n",
      "Id = 57: 0    BARODA\n",
      "dtype: object\n",
      "Id = 59: 0    GANDHIDHAM\n",
      "dtype: object\n",
      "Id = 296: 0    GANDHIDHAM\n",
      "dtype: object\n",
      "Id = 62: 0    LATUR\n",
      "dtype: object\n",
      "Id = 124: 0    NAGPUR\n",
      "dtype: object\n",
      "Id = 67: 0    NAGPUR\n",
      "dtype: object\n",
      "Id = 68: 0    NASHIK\n",
      "dtype: object\n",
      "Id = 70: Series([], dtype: object)\n",
      "Id = 73: 0    NASHIK\n",
      "dtype: object\n",
      "Id = 324: 0    PARBHANI\n",
      "dtype: object\n",
      "Id = 275: 0    AHMEDNAGAR\n",
      "dtype: object\n",
      "Id = 71: Series([], dtype: object)\n",
      "Id = 318: 0    RAJKOT\n",
      "dtype: object\n",
      "Id = 338: 0    RAJKOT\n",
      "dtype: object\n",
      "Id = 314: 0    RAJKOT\n",
      "dtype: object\n",
      "Id = 72: Series([], dtype: object)\n",
      "Id = 76: 0    RAIPUR\n",
      "dtype: object\n",
      "Id = 85: 0    MIRYALGUDA\n",
      "dtype: object\n",
      "Id = 91: 0    MIRYALGUDA\n",
      "dtype: object\n",
      "Id = 93: 0    NELLORE\n",
      "dtype: object\n",
      "Id = 130: 0    RAJAHMUNDRY\n",
      "dtype: object\n",
      "Id = 131: 0    AURANGABAD\n",
      "dtype: object\n",
      "Id = 133: 0    VIJAYAWADA\n",
      "dtype: object\n",
      "Id = 137: 0    KARIMNAGAR\n",
      "dtype: object\n",
      "Id = 141: 0    LUDHIANA FEROZ GANDHI MARKET\n",
      "dtype: object\n",
      "Id = 283: 0    LUDHIANA   RANI JHANSI ROAD\n",
      "dtype: object\n",
      "Id = 148: Series([], dtype: object)\n",
      "Id = 143: 0    NEW DELHI BARAKHAMBHA ROAD\n",
      "dtype: object\n",
      "Id = 280: 0    INDORE\n",
      "dtype: object\n",
      "Id = 263: 0    MANDSAUR\n",
      "dtype: object\n",
      "Id = 147: 0    INDORE\n",
      "dtype: object\n",
      "Id = 150: 0    JABALPUR\n",
      "dtype: object\n",
      "Id = 163: 0    AKOLA\n",
      "dtype: object\n",
      "Id = 56: 0    AMRAVATI\n",
      "dtype: object\n",
      "Id = 166: 0    SIRSA\n",
      "dtype: object\n",
      "Id = 199: 0    SIRSA\n",
      "dtype: object\n",
      "Id = 173: 0    GULBARGA\n",
      "dtype: object\n",
      "Id = 189: 0    HOSHANGABAD\n",
      "dtype: object\n",
      "Id = 298: 0    HOSHANGABAD\n",
      "dtype: object\n",
      "Id = 327: Series([], dtype: object)\n",
      "Id = 193: 0    NIZAMABAD\n",
      "dtype: object\n",
      "Id = 294: 0    KOTA\n",
      "dtype: object\n",
      "Id = 204: Series([], dtype: object)\n",
      "Id = 206: 0    KOLHAPUR\n",
      "dtype: object\n",
      "Id = 407: 0    SIWAN\n",
      "dtype: object\n",
      "Id = 207: 0    PATNA\n",
      "dtype: object\n",
      "Id = 246: 0    BIKANER\n",
      "dtype: object\n",
      "Id = 273: 0    LUCKNOW\n",
      "dtype: object\n",
      "Id = 301: 0    AHMEDABAD AMBAVADI\n",
      "dtype: object\n",
      "Id = 376: Series([], dtype: object)\n",
      "Id = 343: 0    BHOPAL\n",
      "dtype: object\n",
      "Id = 116: 0    BHOPAL\n",
      "dtype: object\n",
      "Id = 325: 0    BHOPAL\n",
      "dtype: object\n",
      "Id = 6: 0    VIDISHA\n",
      "dtype: object\n",
      "Id = 330: 0    VIDISHA\n",
      "dtype: object\n",
      "Id = 336: 0    VIDISHA\n",
      "dtype: object\n",
      "Id = 3: 0    JABALPUR\n",
      "dtype: object\n",
      "Id = 328: 0    BILASPUR\n",
      "dtype: object\n",
      "Id = 308: 0    INDORE\n",
      "dtype: object\n",
      "Id = 209: 0    VIDISHA\n",
      "dtype: object\n",
      "Id = 265: 0    INDORE\n",
      "dtype: object\n",
      "Id = 320: 0    INDORE\n",
      "dtype: object\n",
      "Id = 306: 0    VIDISHA\n",
      "dtype: object\n",
      "Id = 11: 0    GUWAHATI\n",
      "dtype: object\n",
      "Id = 14: 0    JAMSHEDPUR\n",
      "dtype: object\n",
      "Id = 23: 0    JHANSI\n",
      "dtype: object\n",
      "Id = 322: 0    LUCKNOW\n",
      "dtype: object\n",
      "Id = 271: 0    LUCKNOW\n",
      "dtype: object\n",
      "Id = 33: 0    GULBARGA\n",
      "dtype: object\n",
      "Id = 300: 0    HUBLI\n",
      "dtype: object\n",
      "Id = 278: 0    HUBLI\n",
      "dtype: object\n",
      "Id = 145: 0    NELLORE\n",
      "dtype: object\n",
      "Id = 312: 0    KARIMNAGAR\n",
      "dtype: object\n",
      "Id = 106: 0    VISHAKHAPATNAM\n",
      "dtype: object\n",
      "Id = 69: 0    PARBHANI\n",
      "dtype: object\n",
      "Id = 332: 0    SOLAPUR\n",
      "dtype: object\n",
      "Id = 293: 0    PUNE APTE ROAD\n",
      "dtype: object\n",
      "Id = 164: 0    SOLAPUR\n",
      "dtype: object\n",
      "Id = 88: Series([], dtype: object)\n",
      "Id = 89: 0    HOSHANGABAD\n",
      "dtype: object\n",
      "Id = 95: 0    TUMKUR\n",
      "dtype: object\n",
      "Id = 120: 0    TADEPALLIGUDEM\n",
      "dtype: object\n",
      "Id = 313: 0    AURANGABAD\n",
      "dtype: object\n",
      "Id = 136: 0    MEHBOOBNAGAR\n",
      "dtype: object\n",
      "Id = 138: Series([], dtype: object)\n",
      "Id = 139: 0    JAMSHEDPUR\n",
      "dtype: object\n",
      "Id = 337: 0    INDORE\n",
      "dtype: object\n",
      "Id = 302: 0    INDORE\n",
      "dtype: object\n",
      "Id = 326: 0    MANDSAUR\n",
      "dtype: object\n",
      "Id = 342: 0    JABALPUR\n",
      "dtype: object\n",
      "Id = 151: 0    ANANTAPUR\n",
      "dtype: object\n",
      "Id = 162: 0    NAGPUR\n",
      "dtype: object\n",
      "Id = 335: 0    GULBARGA\n",
      "dtype: object\n",
      "Id = 303: 0    JABALPUR\n",
      "dtype: object\n",
      "Id = 195: 0    BALASORE\n",
      "dtype: object\n",
      "Id = 379: Series([], dtype: object)\n",
      "Id = 370: Series([], dtype: object)\n",
      "Id = 406: Series([], dtype: object)\n",
      "Id = 380: 0    SAHARSA\n",
      "dtype: object\n",
      "Id = 323: 0    PATNA\n",
      "dtype: object\n",
      "Id = 269: 0    PATNA\n",
      "dtype: object\n",
      "Id = 270: 0    PATNA\n",
      "dtype: object\n",
      "Id = 233: 0    BANKURA\n",
      "dtype: object\n",
      "Id = 423: 0    MADHUBANI\n",
      "dtype: object\n",
      "Id = 274: 0    AHMEDABAD CG ROAD\n",
      "dtype: object\n",
      "Id = 276: 0    JALANDHAR\n",
      "dtype: object\n",
      "Id = 279: 0    HYDERABAD   HIMAYATHNAGAR\n",
      "dtype: object\n",
      "Id = 344: 0    LUCKNOW\n",
      "dtype: object\n",
      "Id = 357: 0    UJJAIN\n",
      "dtype: object\n",
      "Id = 359: 0    VARANASI\n",
      "dtype: object\n",
      "Id = 375: 0    REWARI\n",
      "dtype: object\n",
      "Id = 377: 0    BILASPUR\n",
      "dtype: object\n",
      "Id = 386: 0    NAGAUR\n",
      "dtype: object\n",
      "Id = 387: 0    CHATTARPUR\n",
      "dtype: object\n",
      "Id = 388: 0    KANKER\n",
      "dtype: object\n",
      "Id = 389: 0    CHITTOOR\n",
      "dtype: object\n",
      "Id = 390: 0    RATLAM\n",
      "dtype: object\n",
      "Id = 393: 0    BARMER\n",
      "dtype: object\n",
      "Id = 395: 0    UTTAR DINAJPUR\n",
      "dtype: object\n",
      "Id = 397: 0    FAIZABAD\n",
      "dtype: object\n",
      "Id = 400: Series([], dtype: object)\n",
      "Id = 401: 0    SHAHDOL\n",
      "dtype: object\n",
      "Id = 404: 0    YAMUNANAGAR\n",
      "dtype: object\n",
      "Id = 405: 0    BHAVNAGAR\n",
      "dtype: object\n",
      "Id = 412: 0    KANPUR\n",
      "dtype: object\n",
      "Id = 413: 0    GWALIOR\n",
      "dtype: object\n",
      "Id = 414: 0    PALWAL\n",
      "dtype: object\n",
      "Id = 416: 0    MANDLA\n",
      "dtype: object\n",
      "Id = 418: 0    AHMEDABAD\n",
      "dtype: object\n",
      "Id = 421: 0    BAGALKOT\n",
      "dtype: object\n",
      "Id = 424: 0    PANIPAT\n",
      "dtype: object\n",
      "Id = 277: 0    BANGALORE LALBAGH\n",
      "dtype: object\n",
      "Id = 408: 0    GANGAPUR CITY\n",
      "dtype: object\n"
     ]
    }
   ],
   "source": [
    "for id in train_data_pd['BranchID'].unique():\n",
    "    area = train_data_pd[train_data_pd['BranchID'] == id].Area.mode()\n",
    "    print(f'Id = {id}: {area}')"
   ]
  },
  {
   "cell_type": "code",
   "execution_count": 11,
   "metadata": {},
   "outputs": [
    {
     "output_type": "execute_result",
     "data": {
      "text/plain": [
       "'KANPUR'"
      ]
     },
     "metadata": {},
     "execution_count": 11
    }
   ],
   "source": [
    "area = train_data_pd[train_data_pd['BranchID'] == 24].Area.mode()\n",
    "area = 'NONE' if area.empty else area[0]\n",
    "area"
   ]
  },
  {
   "cell_type": "code",
   "execution_count": 12,
   "metadata": {},
   "outputs": [
    {
     "output_type": "execute_result",
     "data": {
      "text/plain": [
       "0        2012-02-10\n",
       "1        2012-03-31\n",
       "2        2017-06-17\n",
       "3        2013-11-29\n",
       "4        2011-12-08\n",
       "            ...    \n",
       "128650   2018-09-22\n",
       "128651   2018-09-22\n",
       "128652   2018-11-23\n",
       "128653   2018-12-20\n",
       "128654   2018-12-31\n",
       "Name: AuthDate, Length: 128655, dtype: datetime64[ns]"
      ]
     },
     "metadata": {},
     "execution_count": 12
    }
   ],
   "source": [
    "pd.to_datetime(train_data_pd['AuthDate'])"
   ]
  },
  {
   "cell_type": "code",
   "execution_count": 13,
   "metadata": {},
   "outputs": [],
   "source": [
    "def aut_date_to_year(data):\n",
    "    datetime = pd.to_datetime(data['AuthDate'])\n",
    "    data['AuthYear'] = data.AuthDate.dt.year\n",
    "    data.drop('AuthDate', axis=1, inplace=True)"
   ]
  },
  {
   "cell_type": "code",
   "execution_count": 14,
   "metadata": {},
   "outputs": [],
   "source": [
    "def get_areas_by_ids(data):\n",
    "    areas = {}\n",
    "    for id in data['BranchID'].unique():\n",
    "        area = data[data['BranchID'] == id].Area.mode()\n",
    "        area = 'NONE' if area.empty else area[0]\n",
    "        areas[id] = area\n",
    "    return areas"
   ]
  },
  {
   "cell_type": "code",
   "execution_count": 15,
   "metadata": {},
   "outputs": [],
   "source": [
    "def replace_areas(data):\n",
    "    areas_dict = get_areas_by_ids(data)\n",
    "    null_areas = data['Area'].isnull()\n",
    "    data.Area = data[null_areas].Area = data['BranchID'].map(areas_dict)"
   ]
  },
  {
   "cell_type": "code",
   "execution_count": 16,
   "metadata": {},
   "outputs": [],
   "source": [
    "def get_cities_by_ids(data):\n",
    "    cities = {}\n",
    "    for id in data['BranchID'].unique():\n",
    "        city = data[data['BranchID'] == id].City.mode()\n",
    "        city = 'NONE' if city.empty else city[0]\n",
    "        cities[id] = city\n",
    "    return cities"
   ]
  },
  {
   "cell_type": "code",
   "execution_count": 17,
   "metadata": {},
   "outputs": [],
   "source": [
    "def replace_city(data):\n",
    "    city_dict = get_cities_by_ids(data)\n",
    "    null_city = data['City'].isnull()\n",
    "    data.City = data[null_city].Area = data['BranchID'].map(city_dict)"
   ]
  },
  {
   "cell_type": "code",
   "execution_count": 18,
   "metadata": {},
   "outputs": [],
   "source": [
    "def dis_date_to_year(data):\n",
    "    data['DisbursalYear'] = data.DisbursalDate.dt.year\n",
    "    data.drop('DisbursalDate', axis=1, inplace=True)"
   ]
  },
  {
   "cell_type": "code",
   "execution_count": 19,
   "metadata": {},
   "outputs": [],
   "source": [
    "def mat_date_to_year(data):\n",
    "    data['MaturityYear'] = data.MaturityDAte.dt.year\n",
    "    data.drop('MaturityDAte', axis=1, inplace=True)"
   ]
  },
  {
   "cell_type": "code",
   "execution_count": 20,
   "metadata": {},
   "outputs": [],
   "source": [
    "def fill_income_nan(data):\n",
    "    data['MonthlyIncome'].fillna((data['MonthlyIncome'].mean()), inplace=True)"
   ]
  },
  {
   "cell_type": "code",
   "execution_count": 21,
   "metadata": {},
   "outputs": [],
   "source": [
    "def fill_mat_date_nan(data):\n",
    "    dif = (data['MaturityYear'] - data['DisbursalYear']).mode()[0]\n",
    "    data['MaturityYear'].fillna((data['DisbursalYear'] + dif), inplace=True)"
   ]
  },
  {
   "cell_type": "code",
   "execution_count": 22,
   "metadata": {},
   "outputs": [],
   "source": [
    "def drop_sex(data):\n",
    "    try:\n",
    "        data.drop('SEX', axis=1, inplace=True)\n",
    "        return True\n",
    "    except:\n",
    "        return False"
   ]
  },
  {
   "cell_type": "code",
   "execution_count": 23,
   "metadata": {},
   "outputs": [],
   "source": [
    "def drop_age(data):\n",
    "    try:\n",
    "        data.drop('AGE', axis=1, inplace=True)\n",
    "        return True\n",
    "    except:\n",
    "        return False"
   ]
  },
  {
   "cell_type": "code",
   "execution_count": 24,
   "metadata": {},
   "outputs": [],
   "source": [
    "def drop_zipcode(data):\n",
    "    try:\n",
    "        data.drop('ZiPCODE', axis=1, inplace=True)\n",
    "        return True\n",
    "    except:\n",
    "        return False"
   ]
  },
  {
   "cell_type": "code",
   "execution_count": 25,
   "metadata": {},
   "outputs": [],
   "source": [
    "def drop_manuf_id(data):\n",
    "    try:\n",
    "        data.drop('ManufacturerID', axis=1, inplace=True)\n",
    "        return True\n",
    "    except:\n",
    "        return False"
   ]
  },
  {
   "cell_type": "code",
   "execution_count": 67,
   "metadata": {},
   "outputs": [],
   "source": [
    "def add_bureau(data, bureau):\n",
    "    report_counts = (bureau.groupby(['ID']).size()).to_frame('Report-Counts')\n",
    "    data = data.join(report_counts, on='ID')"
   ]
  },
  {
   "cell_type": "code",
   "execution_count": 79,
   "metadata": {},
   "outputs": [],
   "source": [
    "def preprocesing(data, bureau):\n",
    "    # replace_city(data)\n",
    "    # replace_areas(data)\n",
    "    # fill_income_nan(data)\n",
    "    # dis_date_to_year(data)\n",
    "    # mat_date_to_year(data)\n",
    "    # aut_date_to_year(data)\n",
    "    # fill_mat_date_nan(data)\n",
    "    # drop_age(data)\n",
    "    # drop_sex(data)\n",
    "    # drop_zipcode(data)\n",
    "    add_bureau(data, bureau)\n",
    "    # drop_manuf_id(data)"
   ]
  },
  {
   "cell_type": "code",
   "execution_count": 80,
   "metadata": {},
   "outputs": [
    {
     "output_type": "execute_result",
     "data": {
      "text/plain": [
       "ID                 0\n",
       "Frequency          0\n",
       "InstlmentMode      0\n",
       "LoanStatus         0\n",
       "PaymentMode        0\n",
       "BranchID           0\n",
       "Area               0\n",
       "Tenure             0\n",
       "AssetCost          0\n",
       "AmountFinance      0\n",
       "DisbursalAmount    0\n",
       "EMI                0\n",
       "AssetID            0\n",
       "SupplierID         0\n",
       "LTV                0\n",
       "MonthlyIncome      0\n",
       "City               0\n",
       "State              0\n",
       "Top-up Month       0\n",
       "DisbursalYear      0\n",
       "MaturityYear       0\n",
       "AuthYear           0\n",
       "dtype: int64"
      ]
     },
     "metadata": {},
     "execution_count": 80
    }
   ],
   "source": [
    "train_data_pd.isnull().sum()"
   ]
  },
  {
   "cell_type": "code",
   "execution_count": 81,
   "metadata": {},
   "outputs": [
    {
     "output_type": "error",
     "ename": "KeyError",
     "evalue": "'ManufacturerID'",
     "traceback": [
      "\u001b[0;31m---------------------------------------------------------------------------\u001b[0m",
      "\u001b[0;31mKeyError\u001b[0m                                  Traceback (most recent call last)",
      "\u001b[0;32m~/anaconda3/lib/python3.8/site-packages/pandas/core/indexes/base.py\u001b[0m in \u001b[0;36mget_loc\u001b[0;34m(self, key, method, tolerance)\u001b[0m\n\u001b[1;32m   2894\u001b[0m             \u001b[0;32mtry\u001b[0m\u001b[0;34m:\u001b[0m\u001b[0;34m\u001b[0m\u001b[0;34m\u001b[0m\u001b[0m\n\u001b[0;32m-> 2895\u001b[0;31m                 \u001b[0;32mreturn\u001b[0m \u001b[0mself\u001b[0m\u001b[0;34m.\u001b[0m\u001b[0m_engine\u001b[0m\u001b[0;34m.\u001b[0m\u001b[0mget_loc\u001b[0m\u001b[0;34m(\u001b[0m\u001b[0mcasted_key\u001b[0m\u001b[0;34m)\u001b[0m\u001b[0;34m\u001b[0m\u001b[0;34m\u001b[0m\u001b[0m\n\u001b[0m\u001b[1;32m   2896\u001b[0m             \u001b[0;32mexcept\u001b[0m \u001b[0mKeyError\u001b[0m \u001b[0;32mas\u001b[0m \u001b[0merr\u001b[0m\u001b[0;34m:\u001b[0m\u001b[0;34m\u001b[0m\u001b[0;34m\u001b[0m\u001b[0m\n",
      "\u001b[0;32mpandas/_libs/index.pyx\u001b[0m in \u001b[0;36mpandas._libs.index.IndexEngine.get_loc\u001b[0;34m()\u001b[0m\n",
      "\u001b[0;32mpandas/_libs/index.pyx\u001b[0m in \u001b[0;36mpandas._libs.index.IndexEngine.get_loc\u001b[0;34m()\u001b[0m\n",
      "\u001b[0;32mpandas/_libs/hashtable_class_helper.pxi\u001b[0m in \u001b[0;36mpandas._libs.hashtable.PyObjectHashTable.get_item\u001b[0;34m()\u001b[0m\n",
      "\u001b[0;32mpandas/_libs/hashtable_class_helper.pxi\u001b[0m in \u001b[0;36mpandas._libs.hashtable.PyObjectHashTable.get_item\u001b[0;34m()\u001b[0m\n",
      "\u001b[0;31mKeyError\u001b[0m: 'ManufacturerID'",
      "\nThe above exception was the direct cause of the following exception:\n",
      "\u001b[0;31mKeyError\u001b[0m                                  Traceback (most recent call last)",
      "\u001b[0;32m<ipython-input-81-61a3ef34b677>\u001b[0m in \u001b[0;36m<module>\u001b[0;34m\u001b[0m\n\u001b[0;32m----> 1\u001b[0;31m \u001b[0mtrain_data_pd\u001b[0m\u001b[0;34m[\u001b[0m\u001b[0;34m'ManufacturerID'\u001b[0m\u001b[0;34m]\u001b[0m\u001b[0;34m\u001b[0m\u001b[0;34m\u001b[0m\u001b[0m\n\u001b[0m",
      "\u001b[0;32m~/anaconda3/lib/python3.8/site-packages/pandas/core/frame.py\u001b[0m in \u001b[0;36m__getitem__\u001b[0;34m(self, key)\u001b[0m\n\u001b[1;32m   2900\u001b[0m             \u001b[0;32mif\u001b[0m \u001b[0mself\u001b[0m\u001b[0;34m.\u001b[0m\u001b[0mcolumns\u001b[0m\u001b[0;34m.\u001b[0m\u001b[0mnlevels\u001b[0m \u001b[0;34m>\u001b[0m \u001b[0;36m1\u001b[0m\u001b[0;34m:\u001b[0m\u001b[0;34m\u001b[0m\u001b[0;34m\u001b[0m\u001b[0m\n\u001b[1;32m   2901\u001b[0m                 \u001b[0;32mreturn\u001b[0m \u001b[0mself\u001b[0m\u001b[0;34m.\u001b[0m\u001b[0m_getitem_multilevel\u001b[0m\u001b[0;34m(\u001b[0m\u001b[0mkey\u001b[0m\u001b[0;34m)\u001b[0m\u001b[0;34m\u001b[0m\u001b[0;34m\u001b[0m\u001b[0m\n\u001b[0;32m-> 2902\u001b[0;31m             \u001b[0mindexer\u001b[0m \u001b[0;34m=\u001b[0m \u001b[0mself\u001b[0m\u001b[0;34m.\u001b[0m\u001b[0mcolumns\u001b[0m\u001b[0;34m.\u001b[0m\u001b[0mget_loc\u001b[0m\u001b[0;34m(\u001b[0m\u001b[0mkey\u001b[0m\u001b[0;34m)\u001b[0m\u001b[0;34m\u001b[0m\u001b[0;34m\u001b[0m\u001b[0m\n\u001b[0m\u001b[1;32m   2903\u001b[0m             \u001b[0;32mif\u001b[0m \u001b[0mis_integer\u001b[0m\u001b[0;34m(\u001b[0m\u001b[0mindexer\u001b[0m\u001b[0;34m)\u001b[0m\u001b[0;34m:\u001b[0m\u001b[0;34m\u001b[0m\u001b[0;34m\u001b[0m\u001b[0m\n\u001b[1;32m   2904\u001b[0m                 \u001b[0mindexer\u001b[0m \u001b[0;34m=\u001b[0m \u001b[0;34m[\u001b[0m\u001b[0mindexer\u001b[0m\u001b[0;34m]\u001b[0m\u001b[0;34m\u001b[0m\u001b[0;34m\u001b[0m\u001b[0m\n",
      "\u001b[0;32m~/anaconda3/lib/python3.8/site-packages/pandas/core/indexes/base.py\u001b[0m in \u001b[0;36mget_loc\u001b[0;34m(self, key, method, tolerance)\u001b[0m\n\u001b[1;32m   2895\u001b[0m                 \u001b[0;32mreturn\u001b[0m \u001b[0mself\u001b[0m\u001b[0;34m.\u001b[0m\u001b[0m_engine\u001b[0m\u001b[0;34m.\u001b[0m\u001b[0mget_loc\u001b[0m\u001b[0;34m(\u001b[0m\u001b[0mcasted_key\u001b[0m\u001b[0;34m)\u001b[0m\u001b[0;34m\u001b[0m\u001b[0;34m\u001b[0m\u001b[0m\n\u001b[1;32m   2896\u001b[0m             \u001b[0;32mexcept\u001b[0m \u001b[0mKeyError\u001b[0m \u001b[0;32mas\u001b[0m \u001b[0merr\u001b[0m\u001b[0;34m:\u001b[0m\u001b[0;34m\u001b[0m\u001b[0;34m\u001b[0m\u001b[0m\n\u001b[0;32m-> 2897\u001b[0;31m                 \u001b[0;32mraise\u001b[0m \u001b[0mKeyError\u001b[0m\u001b[0;34m(\u001b[0m\u001b[0mkey\u001b[0m\u001b[0;34m)\u001b[0m \u001b[0;32mfrom\u001b[0m \u001b[0merr\u001b[0m\u001b[0;34m\u001b[0m\u001b[0;34m\u001b[0m\u001b[0m\n\u001b[0m\u001b[1;32m   2898\u001b[0m \u001b[0;34m\u001b[0m\u001b[0m\n\u001b[1;32m   2899\u001b[0m         \u001b[0;32mif\u001b[0m \u001b[0mtolerance\u001b[0m \u001b[0;32mis\u001b[0m \u001b[0;32mnot\u001b[0m \u001b[0;32mNone\u001b[0m\u001b[0;34m:\u001b[0m\u001b[0;34m\u001b[0m\u001b[0;34m\u001b[0m\u001b[0m\n",
      "\u001b[0;31mKeyError\u001b[0m: 'ManufacturerID'"
     ]
    }
   ],
   "source": [
    "train_data_pd['ManufacturerID']"
   ]
  },
  {
   "cell_type": "code",
   "execution_count": null,
   "metadata": {},
   "outputs": [],
   "source": [
    "preprocesing(train_data_pd, train_bureau_pd)"
   ]
  },
  {
   "cell_type": "code",
   "execution_count": 83,
   "metadata": {},
   "outputs": [
    {
     "output_type": "execute_result",
     "data": {
      "text/plain": [
       "ID                 0\n",
       "Frequency          0\n",
       "InstlmentMode      0\n",
       "LoanStatus         0\n",
       "PaymentMode        0\n",
       "BranchID           0\n",
       "Area               0\n",
       "Tenure             0\n",
       "AssetCost          0\n",
       "AmountFinance      0\n",
       "DisbursalAmount    0\n",
       "EMI                0\n",
       "AssetID            0\n",
       "SupplierID         0\n",
       "LTV                0\n",
       "MonthlyIncome      0\n",
       "City               0\n",
       "State              0\n",
       "Top-up Month       0\n",
       "DisbursalYear      0\n",
       "MaturityYear       0\n",
       "AuthYear           0\n",
       "dtype: int64"
      ]
     },
     "metadata": {},
     "execution_count": 83
    }
   ],
   "source": [
    "train_data_pd.isnull().sum()"
   ]
  },
  {
   "cell_type": "code",
   "execution_count": 84,
   "metadata": {},
   "outputs": [
    {
     "output_type": "execute_result",
     "data": {
      "text/plain": [
       "ID                 0\n",
       "Frequency          0\n",
       "InstlmentMode      0\n",
       "LoanStatus         0\n",
       "PaymentMode        0\n",
       "BranchID           0\n",
       "Area               0\n",
       "Tenure             0\n",
       "AssetCost          0\n",
       "AmountFinance      0\n",
       "DisbursalAmount    0\n",
       "EMI                0\n",
       "AssetID            0\n",
       "SupplierID         0\n",
       "LTV                0\n",
       "MonthlyIncome      0\n",
       "City               0\n",
       "State              0\n",
       "DisbursalYear      0\n",
       "MaturityYear       0\n",
       "AuthYear           0\n",
       "dtype: int64"
      ]
     },
     "metadata": {},
     "execution_count": 84
    }
   ],
   "source": [
    "test_data_pd.isnull().sum()"
   ]
  },
  {
   "cell_type": "code",
   "execution_count": 85,
   "metadata": {},
   "outputs": [],
   "source": [
    "preprocesing(test_data_pd, test_bureau_pd)"
   ]
  },
  {
   "cell_type": "code",
   "execution_count": 86,
   "metadata": {},
   "outputs": [
    {
     "output_type": "execute_result",
     "data": {
      "text/plain": [
       "ID                 0\n",
       "Frequency          0\n",
       "InstlmentMode      0\n",
       "LoanStatus         0\n",
       "PaymentMode        0\n",
       "BranchID           0\n",
       "Area               0\n",
       "Tenure             0\n",
       "AssetCost          0\n",
       "AmountFinance      0\n",
       "DisbursalAmount    0\n",
       "EMI                0\n",
       "AssetID            0\n",
       "SupplierID         0\n",
       "LTV                0\n",
       "MonthlyIncome      0\n",
       "City               0\n",
       "State              0\n",
       "DisbursalYear      0\n",
       "MaturityYear       0\n",
       "AuthYear           0\n",
       "dtype: int64"
      ]
     },
     "metadata": {},
     "execution_count": 86
    }
   ],
   "source": [
    "test_data_pd.isnull().sum()"
   ]
  },
  {
   "cell_type": "code",
   "execution_count": 91,
   "metadata": {},
   "outputs": [],
   "source": [
    "report_counts = (train_bureau_pd.groupby(['ID']).size()).to_frame('Report-Counts')\n",
    "train_data_pd = train_data_pd.join(report_counts, on='ID')\n",
    "report_counts = (test_bureau_pd.groupby(['ID']).size()).to_frame('Report-Counts')\n",
    "test_data_pd = test_data_pd.join(report_counts, on='ID')"
   ]
  },
  {
   "cell_type": "code",
   "execution_count": 92,
   "metadata": {},
   "outputs": [],
   "source": [
    "train_data_pd.to_csv('train_data.csv', index=False)\n",
    "test_data_pd.to_csv('test_data.csv', index=False)"
   ]
  },
  {
   "cell_type": "code",
   "execution_count": 94,
   "metadata": {},
   "outputs": [
    {
     "output_type": "execute_result",
     "data": {
      "text/plain": [
       "            ID    Frequency InstlmentMode LoanStatus   PaymentMode  BranchID  \\\n",
       "0            1      Monthly        Arrear     Closed         PDC_E         1   \n",
       "1            2      Monthly       Advance     Closed           PDC       333   \n",
       "2            3      Quatrly        Arrear     Active  Direct Debit         1   \n",
       "3            7      Monthly       Advance     Closed        Billed       125   \n",
       "4            8      Monthly        Arrear     Closed        Billed       152   \n",
       "...        ...          ...           ...        ...           ...       ...   \n",
       "128650  143390  Half Yearly        Arrear     Closed  Direct Debit       424   \n",
       "128651  143391  Half Yearly        Arrear     Closed  Direct Debit       424   \n",
       "128652  143393      Monthly        Arrear     Active  Direct Debit       424   \n",
       "128653  143394  Half Yearly        Arrear     Active  Direct Debit       424   \n",
       "128654  143395  Half Yearly        Arrear     Active  Direct Debit       424   \n",
       "\n",
       "            Area  Tenure  AssetCost  AmountFinance  ...  SupplierID    LTV  \\\n",
       "0           NONE      48     450000       275000.0  ...       21946  61.11   \n",
       "1         BHOPAL      47     485000       350000.0  ...       34802  70.00   \n",
       "2           NONE      68     690000       519728.0  ...      127335  69.77   \n",
       "3           GUNA      48     480000       400000.0  ...       25094  80.92   \n",
       "4       BILASPUR      44     619265       440000.0  ...       21853  71.05   \n",
       "...          ...     ...        ...            ...  ...         ...    ...   \n",
       "128650   PANIPAT      24     470000       265601.0  ...       48879  40.17   \n",
       "128651   PANIPAT      24     460000       275630.0  ...       48879  59.92   \n",
       "128652   PANIPAT      23     545000       300733.0  ...       44118  52.38   \n",
       "128653   PANIPAT      35     350000       250962.0  ...       48879  50.37   \n",
       "128654   PANIPAT      24     370000       200428.0  ...       48879  54.17   \n",
       "\n",
       "        MonthlyIncome         City           State       Top-up Month  \\\n",
       "0            35833.33       BHOPAL  MADHYA PRADESH        > 48 Months   \n",
       "1              666.67       SEHORE  MADHYA PRADESH  No Top-up Service   \n",
       "2            45257.00       BHOPAL  MADHYA PRADESH       12-18 Months   \n",
       "3            20833.33  ASHOK NAGAR  MADHYA PRADESH        > 48 Months   \n",
       "4            27313.67     BILASPUR     CHATTISGARH       36-48 Months   \n",
       "...               ...          ...             ...                ...   \n",
       "128650       65333.33      SONIPAT         HARYANA       24-30 Months   \n",
       "128651       83333.33      SONIPAT         HARYANA  No Top-up Service   \n",
       "128652      248500.00      SONIPAT         HARYANA  No Top-up Service   \n",
       "128653       84500.00      SONIPAT         HARYANA  No Top-up Service   \n",
       "128654      178166.67      SONIPAT         HARYANA  No Top-up Service   \n",
       "\n",
       "       DisbursalYear MaturityYear AuthYear  Report-Counts  \n",
       "0               2012       2016.0     2012              9  \n",
       "1               2012       2016.0     2012             13  \n",
       "2               2017       2023.0     2017             31  \n",
       "3               2013       2017.0     2013              4  \n",
       "4               2011       2015.0     2011              7  \n",
       "...              ...          ...      ...            ...  \n",
       "128650          2018       2020.0     2018              2  \n",
       "128651          2018       2020.0     2018              1  \n",
       "128652          2018       2020.0     2018              4  \n",
       "128653          2018       2021.0     2018              1  \n",
       "128654          2018       2020.0     2018              1  \n",
       "\n",
       "[128655 rows x 23 columns]"
      ],
      "text/html": "<div>\n<style scoped>\n    .dataframe tbody tr th:only-of-type {\n        vertical-align: middle;\n    }\n\n    .dataframe tbody tr th {\n        vertical-align: top;\n    }\n\n    .dataframe thead th {\n        text-align: right;\n    }\n</style>\n<table border=\"1\" class=\"dataframe\">\n  <thead>\n    <tr style=\"text-align: right;\">\n      <th></th>\n      <th>ID</th>\n      <th>Frequency</th>\n      <th>InstlmentMode</th>\n      <th>LoanStatus</th>\n      <th>PaymentMode</th>\n      <th>BranchID</th>\n      <th>Area</th>\n      <th>Tenure</th>\n      <th>AssetCost</th>\n      <th>AmountFinance</th>\n      <th>...</th>\n      <th>SupplierID</th>\n      <th>LTV</th>\n      <th>MonthlyIncome</th>\n      <th>City</th>\n      <th>State</th>\n      <th>Top-up Month</th>\n      <th>DisbursalYear</th>\n      <th>MaturityYear</th>\n      <th>AuthYear</th>\n      <th>Report-Counts</th>\n    </tr>\n  </thead>\n  <tbody>\n    <tr>\n      <th>0</th>\n      <td>1</td>\n      <td>Monthly</td>\n      <td>Arrear</td>\n      <td>Closed</td>\n      <td>PDC_E</td>\n      <td>1</td>\n      <td>NONE</td>\n      <td>48</td>\n      <td>450000</td>\n      <td>275000.0</td>\n      <td>...</td>\n      <td>21946</td>\n      <td>61.11</td>\n      <td>35833.33</td>\n      <td>BHOPAL</td>\n      <td>MADHYA PRADESH</td>\n      <td>&gt; 48 Months</td>\n      <td>2012</td>\n      <td>2016.0</td>\n      <td>2012</td>\n      <td>9</td>\n    </tr>\n    <tr>\n      <th>1</th>\n      <td>2</td>\n      <td>Monthly</td>\n      <td>Advance</td>\n      <td>Closed</td>\n      <td>PDC</td>\n      <td>333</td>\n      <td>BHOPAL</td>\n      <td>47</td>\n      <td>485000</td>\n      <td>350000.0</td>\n      <td>...</td>\n      <td>34802</td>\n      <td>70.00</td>\n      <td>666.67</td>\n      <td>SEHORE</td>\n      <td>MADHYA PRADESH</td>\n      <td>No Top-up Service</td>\n      <td>2012</td>\n      <td>2016.0</td>\n      <td>2012</td>\n      <td>13</td>\n    </tr>\n    <tr>\n      <th>2</th>\n      <td>3</td>\n      <td>Quatrly</td>\n      <td>Arrear</td>\n      <td>Active</td>\n      <td>Direct Debit</td>\n      <td>1</td>\n      <td>NONE</td>\n      <td>68</td>\n      <td>690000</td>\n      <td>519728.0</td>\n      <td>...</td>\n      <td>127335</td>\n      <td>69.77</td>\n      <td>45257.00</td>\n      <td>BHOPAL</td>\n      <td>MADHYA PRADESH</td>\n      <td>12-18 Months</td>\n      <td>2017</td>\n      <td>2023.0</td>\n      <td>2017</td>\n      <td>31</td>\n    </tr>\n    <tr>\n      <th>3</th>\n      <td>7</td>\n      <td>Monthly</td>\n      <td>Advance</td>\n      <td>Closed</td>\n      <td>Billed</td>\n      <td>125</td>\n      <td>GUNA</td>\n      <td>48</td>\n      <td>480000</td>\n      <td>400000.0</td>\n      <td>...</td>\n      <td>25094</td>\n      <td>80.92</td>\n      <td>20833.33</td>\n      <td>ASHOK NAGAR</td>\n      <td>MADHYA PRADESH</td>\n      <td>&gt; 48 Months</td>\n      <td>2013</td>\n      <td>2017.0</td>\n      <td>2013</td>\n      <td>4</td>\n    </tr>\n    <tr>\n      <th>4</th>\n      <td>8</td>\n      <td>Monthly</td>\n      <td>Arrear</td>\n      <td>Closed</td>\n      <td>Billed</td>\n      <td>152</td>\n      <td>BILASPUR</td>\n      <td>44</td>\n      <td>619265</td>\n      <td>440000.0</td>\n      <td>...</td>\n      <td>21853</td>\n      <td>71.05</td>\n      <td>27313.67</td>\n      <td>BILASPUR</td>\n      <td>CHATTISGARH</td>\n      <td>36-48 Months</td>\n      <td>2011</td>\n      <td>2015.0</td>\n      <td>2011</td>\n      <td>7</td>\n    </tr>\n    <tr>\n      <th>...</th>\n      <td>...</td>\n      <td>...</td>\n      <td>...</td>\n      <td>...</td>\n      <td>...</td>\n      <td>...</td>\n      <td>...</td>\n      <td>...</td>\n      <td>...</td>\n      <td>...</td>\n      <td>...</td>\n      <td>...</td>\n      <td>...</td>\n      <td>...</td>\n      <td>...</td>\n      <td>...</td>\n      <td>...</td>\n      <td>...</td>\n      <td>...</td>\n      <td>...</td>\n      <td>...</td>\n    </tr>\n    <tr>\n      <th>128650</th>\n      <td>143390</td>\n      <td>Half Yearly</td>\n      <td>Arrear</td>\n      <td>Closed</td>\n      <td>Direct Debit</td>\n      <td>424</td>\n      <td>PANIPAT</td>\n      <td>24</td>\n      <td>470000</td>\n      <td>265601.0</td>\n      <td>...</td>\n      <td>48879</td>\n      <td>40.17</td>\n      <td>65333.33</td>\n      <td>SONIPAT</td>\n      <td>HARYANA</td>\n      <td>24-30 Months</td>\n      <td>2018</td>\n      <td>2020.0</td>\n      <td>2018</td>\n      <td>2</td>\n    </tr>\n    <tr>\n      <th>128651</th>\n      <td>143391</td>\n      <td>Half Yearly</td>\n      <td>Arrear</td>\n      <td>Closed</td>\n      <td>Direct Debit</td>\n      <td>424</td>\n      <td>PANIPAT</td>\n      <td>24</td>\n      <td>460000</td>\n      <td>275630.0</td>\n      <td>...</td>\n      <td>48879</td>\n      <td>59.92</td>\n      <td>83333.33</td>\n      <td>SONIPAT</td>\n      <td>HARYANA</td>\n      <td>No Top-up Service</td>\n      <td>2018</td>\n      <td>2020.0</td>\n      <td>2018</td>\n      <td>1</td>\n    </tr>\n    <tr>\n      <th>128652</th>\n      <td>143393</td>\n      <td>Monthly</td>\n      <td>Arrear</td>\n      <td>Active</td>\n      <td>Direct Debit</td>\n      <td>424</td>\n      <td>PANIPAT</td>\n      <td>23</td>\n      <td>545000</td>\n      <td>300733.0</td>\n      <td>...</td>\n      <td>44118</td>\n      <td>52.38</td>\n      <td>248500.00</td>\n      <td>SONIPAT</td>\n      <td>HARYANA</td>\n      <td>No Top-up Service</td>\n      <td>2018</td>\n      <td>2020.0</td>\n      <td>2018</td>\n      <td>4</td>\n    </tr>\n    <tr>\n      <th>128653</th>\n      <td>143394</td>\n      <td>Half Yearly</td>\n      <td>Arrear</td>\n      <td>Active</td>\n      <td>Direct Debit</td>\n      <td>424</td>\n      <td>PANIPAT</td>\n      <td>35</td>\n      <td>350000</td>\n      <td>250962.0</td>\n      <td>...</td>\n      <td>48879</td>\n      <td>50.37</td>\n      <td>84500.00</td>\n      <td>SONIPAT</td>\n      <td>HARYANA</td>\n      <td>No Top-up Service</td>\n      <td>2018</td>\n      <td>2021.0</td>\n      <td>2018</td>\n      <td>1</td>\n    </tr>\n    <tr>\n      <th>128654</th>\n      <td>143395</td>\n      <td>Half Yearly</td>\n      <td>Arrear</td>\n      <td>Active</td>\n      <td>Direct Debit</td>\n      <td>424</td>\n      <td>PANIPAT</td>\n      <td>24</td>\n      <td>370000</td>\n      <td>200428.0</td>\n      <td>...</td>\n      <td>48879</td>\n      <td>54.17</td>\n      <td>178166.67</td>\n      <td>SONIPAT</td>\n      <td>HARYANA</td>\n      <td>No Top-up Service</td>\n      <td>2018</td>\n      <td>2020.0</td>\n      <td>2018</td>\n      <td>1</td>\n    </tr>\n  </tbody>\n</table>\n<p>128655 rows × 23 columns</p>\n</div>"
     },
     "metadata": {},
     "execution_count": 94
    }
   ],
   "source": [
    "train_data_pd"
   ]
  },
  {
   "cell_type": "code",
   "execution_count": null,
   "metadata": {},
   "outputs": [],
   "source": []
  }
 ]
}