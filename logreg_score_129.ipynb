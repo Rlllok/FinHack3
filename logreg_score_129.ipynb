{
 "metadata": {
  "language_info": {
   "codemirror_mode": {
    "name": "ipython",
    "version": 3
   },
   "file_extension": ".py",
   "mimetype": "text/x-python",
   "name": "python",
   "nbconvert_exporter": "python",
   "pygments_lexer": "ipython3",
   "version": "3.8.5-final"
  },
  "orig_nbformat": 2,
  "kernelspec": {
   "name": "python3",
   "display_name": "Python 3",
   "language": "python"
  }
 },
 "nbformat": 4,
 "nbformat_minor": 2,
 "cells": [
  {
   "cell_type": "code",
   "execution_count": 1,
   "metadata": {},
   "outputs": [],
   "source": [
    "import pandas as pd\n",
    "import numpy as np\n",
    "from sklearn.compose import make_column_transformer\n",
    "from sklearn.preprocessing import LabelEncoder, OrdinalEncoder, OneHotEncoder\n",
    "from sklearn.linear_model import LogisticRegression\n",
    "from sklearn.pipeline import make_pipeline\n",
    "from sklearn.metrics import f1_score"
   ]
  },
  {
   "cell_type": "code",
   "execution_count": 2,
   "metadata": {},
   "outputs": [],
   "source": [
    "train_pd = pd.read_csv('train_data.csv')\n",
    "test_pd = pd.read_csv('test_data.csv')"
   ]
  },
  {
   "cell_type": "code",
   "execution_count": 3,
   "metadata": {},
   "outputs": [
    {
     "output_type": "execute_result",
     "data": {
      "text/plain": [
       "Index(['ID', 'Frequency', 'InstlmentMode', 'LoanStatus', 'PaymentMode',\n",
       "       'BranchID', 'Area', 'Tenure', 'AssetCost', 'AmountFinance',\n",
       "       'DisbursalAmount', 'EMI', 'AuthDate', 'AssetID', 'SupplierID', 'LTV',\n",
       "       'MonthlyIncome', 'City', 'State', 'DisbursalYear', 'MaturityYear'],\n",
       "      dtype='object')"
      ]
     },
     "metadata": {},
     "execution_count": 3
    }
   ],
   "source": [
    "test_pd.columns"
   ]
  },
  {
   "cell_type": "code",
   "execution_count": 4,
   "metadata": {},
   "outputs": [],
   "source": [
    "X_train = train_pd.drop(['ID', 'Top-up Month', 'AuthDate', 'City', 'Area', 'BranchID', 'SupplierID', 'AssetID'], axis=1)\n",
    "y_train = train_pd['Top-up Month']\n",
    "X_test = test_pd.drop(['ID', 'AuthDate', 'City', 'Area', 'BranchID', 'SupplierID', 'AssetID'], axis=1)"
   ]
  },
  {
   "cell_type": "code",
   "execution_count": 5,
   "metadata": {},
   "outputs": [],
   "source": [
    "cat_features = list(X_test.dtypes[X_test.dtypes == 'object'].index)"
   ]
  },
  {
   "cell_type": "code",
   "execution_count": 6,
   "metadata": {},
   "outputs": [],
   "source": [
    "column_trans = make_column_transformer(\n",
    "    (OrdinalEncoder(), ['Frequency']),\n",
    "    (OneHotEncoder(), cat_features[0:]),\n",
    "    remainder='passthrough'\n",
    ")\n",
    "logreg = LogisticRegression(solver='lbfgs')"
   ]
  },
  {
   "cell_type": "code",
   "execution_count": 7,
   "metadata": {},
   "outputs": [],
   "source": [
    "pipe = make_pipeline(column_trans, logreg)"
   ]
  },
  {
   "cell_type": "code",
   "execution_count": 8,
   "metadata": {},
   "outputs": [
    {
     "output_type": "execute_result",
     "data": {
      "text/plain": [
       "Pipeline(steps=[('columntransformer',\n",
       "                 ColumnTransformer(remainder='passthrough',\n",
       "                                   transformers=[('ordinalencoder',\n",
       "                                                  OrdinalEncoder(),\n",
       "                                                  ['Frequency']),\n",
       "                                                 ('onehotencoder',\n",
       "                                                  OneHotEncoder(),\n",
       "                                                  ['Frequency', 'InstlmentMode',\n",
       "                                                   'LoanStatus', 'PaymentMode',\n",
       "                                                   'State'])])),\n",
       "                ('logisticregression', LogisticRegression())])"
      ]
     },
     "metadata": {},
     "execution_count": 8
    }
   ],
   "source": [
    "pipe.fit(X_train, y_train)"
   ]
  },
  {
   "cell_type": "code",
   "execution_count": 9,
   "metadata": {},
   "outputs": [],
   "source": [
    "y_pred = pipe.predict(X_train)"
   ]
  },
  {
   "cell_type": "code",
   "execution_count": 10,
   "metadata": {},
   "outputs": [
    {
     "output_type": "stream",
     "name": "stdout",
     "text": [
      "Macro F1: 0.12951550514652857\n"
     ]
    }
   ],
   "source": [
    "print('Macro F1:', f1_score(y_train, y_pred, average='macro'))"
   ]
  },
  {
   "cell_type": "code",
   "execution_count": 11,
   "metadata": {},
   "outputs": [
    {
     "output_type": "execute_result",
     "data": {
      "text/plain": [
       "Frequency           object\n",
       "InstlmentMode       object\n",
       "LoanStatus          object\n",
       "PaymentMode         object\n",
       "Tenure               int64\n",
       "AssetCost            int64\n",
       "AmountFinance      float64\n",
       "DisbursalAmount    float64\n",
       "EMI                float64\n",
       "LTV                float64\n",
       "MonthlyIncome      float64\n",
       "State               object\n",
       "DisbursalYear        int64\n",
       "MaturityYear       float64\n",
       "dtype: object"
      ]
     },
     "metadata": {},
     "execution_count": 11
    }
   ],
   "source": [
    "X_train.dtypes"
   ]
  },
  {
   "cell_type": "code",
   "execution_count": null,
   "metadata": {},
   "outputs": [],
   "source": []
  }
 ]
}